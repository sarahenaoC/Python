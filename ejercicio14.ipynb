{
  "nbformat": 4,
  "nbformat_minor": 0,
  "metadata": {
    "colab": {
      "provenance": []
    },
    "kernelspec": {
      "name": "python3",
      "display_name": "Python 3"
    },
    "language_info": {
      "name": "python"
    }
  },
  "cells": [
    {
      "cell_type": "code",
      "execution_count": 49,
      "metadata": {
        "colab": {
          "base_uri": "https://localhost:8080/"
        },
        "id": "Ia2PVbiuKyeS",
        "outputId": "36e54192-537c-45a0-f644-222aa68be67c"
      },
      "outputs": [
        {
          "output_type": "stream",
          "name": "stdout",
          "text": [
            "Ingrese la cantidad de matrices que desea sumar: 2\n",
            "Ingrese la cantidad de filas para la matriz 1: 2\n",
            "Ingrese la cantidad de columnas para la matriz 1: 2\n",
            "Ingrese los elementos de la matriz 2x2:\n",
            "Elemento (1,1): 3\n",
            "Elemento (1,2): 4\n",
            "Elemento (2,1): 3\n",
            "Elemento (2,2): 4\n",
            "Ingrese la cantidad de filas para la matriz 2: 2\n",
            "Ingrese la cantidad de columnas para la matriz 2: 2\n",
            "Ingrese los elementos de la matriz 2x2:\n",
            "Elemento (1,1): 3\n",
            "Elemento (1,2): 4\n",
            "Elemento (2,1): 3\n",
            "Elemento (2,2): 4\n",
            "\n",
            "Matrices a sumar:\n",
            "3 4\n",
            "3 4\n",
            " + \n",
            "3 4\n",
            "3 4\n",
            " = \n",
            "Resultado:\n",
            "6 8\n",
            "6 8\n"
          ]
        }
      ],
      "source": [
        "def leer_entero_positivo(mensaje):\n",
        "    while True:\n",
        "        try:\n",
        "            valor = int(input(mensaje))\n",
        "            if valor > 0:\n",
        "                return valor\n",
        "            else:\n",
        "                print(\"Por favor, ingrese un número entero positivo.\")\n",
        "        except ValueError:\n",
        "            print(\"Por favor, ingrese un número entero positivo válido.\")\n",
        "\n",
        "def leer_matriz(filas, columnas):\n",
        "    matriz = []\n",
        "    print(f\"Ingrese los elementos de la matriz {filas}x{columnas}:\")\n",
        "    for i in range(filas):\n",
        "        fila = []\n",
        "        for j in range(columnas):\n",
        "            elemento = int(input(f\"Elemento ({i+1},{j+1}): \"))\n",
        "            fila.append(elemento)\n",
        "        matriz.append(fila)\n",
        "    return matriz\n",
        "\n",
        "def imprimir_matriz_horizontal(matriz):\n",
        "    for fila in matriz:\n",
        "        print(\" \".join(map(str, fila)))\n",
        "\n",
        "def sumar_matrices(matrices):\n",
        "    if not matrices:\n",
        "        return []\n",
        "\n",
        "    num_filas = len(matrices[0])\n",
        "    num_columnas = len(matrices[0][0])\n",
        "\n",
        "    for matriz in matrices:\n",
        "        if len(matriz) != num_filas or len(matriz[0]) != num_columnas:\n",
        "            print(\"Las matrices deben tener la misma cantidad de filas y columnas.\")\n",
        "            return []\n",
        "\n",
        "    resultado = [[0 for _ in range(num_columnas)] for _ in range(num_filas)]\n",
        "\n",
        "    for matriz in matrices:\n",
        "        for i in range(num_filas):\n",
        "            for j in range(num_columnas):\n",
        "                resultado[i][j] += matriz[i][j]\n",
        "\n",
        "    return resultado\n",
        "\n",
        "cantidad_matrices = leer_entero_positivo(\"Ingrese la cantidad de matrices que desea sumar: \")\n",
        "\n",
        "matrices = []\n",
        "for i in range(cantidad_matrices):\n",
        "    filas = leer_entero_positivo(f\"Ingrese la cantidad de filas para la matriz {i+1}: \")\n",
        "    columnas = leer_entero_positivo(f\"Ingrese la cantidad de columnas para la matriz {i+1}: \")\n",
        "    matriz = leer_matriz(filas, columnas)\n",
        "    matrices.append(matriz)\n",
        "\n",
        "resultado = sumar_matrices(matrices)\n",
        "\n",
        "if resultado:\n",
        "    print(\"\\nMatrices a sumar:\")\n",
        "    for i in range(cantidad_matrices):\n",
        "        imprimir_matriz_horizontal(matrices[i])\n",
        "        if i < cantidad_matrices - 1:\n",
        "            print(\" + \")\n",
        "        else:\n",
        "            print(\" = \")\n",
        "\n",
        "    print(\"Resultado:\")\n",
        "    imprimir_matriz_horizontal(resultado)\n"
      ]
    }
  ]
}