{
  "nbformat": 4,
  "nbformat_minor": 0,
  "metadata": {
    "colab": {
      "provenance": []
    },
    "kernelspec": {
      "name": "python3",
      "display_name": "Python 3"
    },
    "language_info": {
      "name": "python"
    }
  },
  "cells": [
    {
      "cell_type": "code",
      "execution_count": 5,
      "metadata": {
        "colab": {
          "base_uri": "https://localhost:8080/"
        },
        "id": "Y7naXm5GY3MG",
        "outputId": "2d98d78f-f13f-4907-8859-9eaf3306f071"
      },
      "outputs": [
        {
          "output_type": "stream",
          "name": "stdout",
          "text": [
            "Número mayor\n",
            "\n",
            "Digite tres numeros enteros \n",
            "\n",
            "Digite el numero 1: 1\n",
            "Digite el numero 2: 2\n",
            "Digite el numero 3: 3\n",
            "\n",
            "El numero mayor de los tres es  3  \n",
            "\n"
          ]
        }
      ],
      "source": [
        "print(\"Número mayor\\n\")\n",
        "print(\"Digite tres numeros enteros \\n\")\n",
        "num1 = int(input(\"Digite el numero 1: \" ))\n",
        "num2 = int(input(\"Digite el numero 2: \" ))\n",
        "num3 = int(input(\"Digite el numero 3: \" ))\n",
        "\n",
        "if num1 > num2 and num1 > num3:\n",
        "  numg = num1\n",
        "elif num2 > num1 and num2 > num3:\n",
        "  numg= num2\n",
        "else:\n",
        "    numg= num3\n",
        "\n",
        "print(\"\\nEl numero mayor de los tres es \", numg , \" \\n\")"
      ]
    }
  ]
}