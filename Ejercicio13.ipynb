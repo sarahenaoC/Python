{
  "nbformat": 4,
  "nbformat_minor": 0,
  "metadata": {
    "colab": {
      "provenance": []
    },
    "kernelspec": {
      "name": "python3",
      "display_name": "Python 3"
    },
    "language_info": {
      "name": "python"
    }
  },
  "cells": [
    {
      "cell_type": "code",
      "execution_count": 7,
      "metadata": {
        "colab": {
          "base_uri": "https://localhost:8080/"
        },
        "id": "zPv29NmYnrY5",
        "outputId": "be5366c9-a88b-4be5-dd01-7a86d60ca961"
      },
      "outputs": [
        {
          "output_type": "stream",
          "name": "stdout",
          "text": [
            "Ingrese la cantidad de filas: 2\n",
            "Ingrese la cantidad de columnas: 3\n",
            "Ingrese el valor para la fila 1, columna 1: 1\n",
            "Ingrese el valor para la fila 1, columna 2: 2\n",
            "Ingrese el valor para la fila 1, columna 3: 3\n",
            "Ingrese el valor para la fila 2, columna 1: 2\n",
            "Ingrese el valor para la fila 2, columna 2: 1\n",
            "Ingrese el valor para la fila 2, columna 3: 2\n",
            "\n",
            "Matriz resultante:\n",
            "1\t2\t3\t\n",
            "2\t1\t2\t\n"
          ]
        }
      ],
      "source": [
        "def crear_matriz(filas, columnas):\n",
        "    matriz = []\n",
        "    for i in range(filas):\n",
        "        fila = []\n",
        "        for j in range(columnas):\n",
        "            valor = int(input(f\"Ingrese el valor para la fila {i+1}, columna {j+1}: \"))\n",
        "            fila.append(valor)\n",
        "        matriz.append(fila)\n",
        "    return matriz\n",
        "def mostrar_matriz(matriz):\n",
        "    for fila in matriz:\n",
        "        for valor in fila:\n",
        "            print(valor, end=\"\\t\")\n",
        "        print()\n",
        "\n",
        "filas = int(input(\"Ingrese la cantidad de filas: \"))\n",
        "columnas = int(input(\"Ingrese la cantidad de columnas: \"))\n",
        "matriz = crear_matriz(filas, columnas)\n",
        "print(\"\\nMatriz resultante:\")\n",
        "mostrar_matriz(matriz)\n",
        "\n"
      ]
    }
  ]
}