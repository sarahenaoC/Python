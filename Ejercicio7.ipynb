{
  "nbformat": 4,
  "nbformat_minor": 0,
  "metadata": {
    "colab": {
      "provenance": []
    },
    "kernelspec": {
      "name": "python3",
      "display_name": "Python 3"
    },
    "language_info": {
      "name": "python"
    }
  },
  "cells": [
    {
      "cell_type": "code",
      "execution_count": 3,
      "metadata": {
        "colab": {
          "base_uri": "https://localhost:8080/"
        },
        "id": "17T0s8BSEur_",
        "outputId": "ff4feaba-c288-490a-f2e2-e41717c71ef1"
      },
      "outputs": [
        {
          "output_type": "stream",
          "name": "stdout",
          "text": [
            "Ingrese una oración: fffffffff\n",
            "Oración invertida: fffffffff\n"
          ]
        }
      ],
      "source": [
        "\n",
        "oracion_original = input(\"Ingrese una oración: \")\n",
        "\n",
        "oracion_invertida = \"\"\n",
        "\n",
        "for i in range(len(oracion_original) - 1, -1, -1):\n",
        "   oracion_invertida += oracion_original[i]\n",
        "\n",
        "print(\"Oración invertida:\", oracion_invertida)\n"
      ]
    }
  ]
}