{
  "nbformat": 4,
  "nbformat_minor": 0,
  "metadata": {
    "colab": {
      "provenance": []
    },
    "kernelspec": {
      "name": "python3",
      "display_name": "Python 3"
    },
    "language_info": {
      "name": "python"
    }
  },
  "cells": [
    {
      "cell_type": "code",
      "execution_count": 4,
      "metadata": {
        "colab": {
          "base_uri": "https://localhost:8080/"
        },
        "id": "LSl67SKgH0Sq",
        "outputId": "b6b2a9c5-4955-445a-c169-43abb63ed55c"
      },
      "outputs": [
        {
          "output_type": "stream",
          "name": "stdout",
          "text": [
            "Ingrese el elemento que desea eliminar: e\n",
            "Lista sin el elemento: ['A', 'B', 'b', 'c', 'f']\n"
          ]
        }
      ],
      "source": [
        "\n",
        "lista = [\"A\", \"B\", \"b\", \"c\", \"E\", \"E\", \"f\"]\n",
        "\n",
        "\n",
        "elemento_a_eliminar = input(\"Ingrese el elemento que desea eliminar: \")\n",
        "\n",
        "\n",
        "elemento_a_eliminar = elemento_a_eliminar.lower()\n",
        "\n",
        "\n",
        "nueva_lista = []\n",
        "\n",
        "\n",
        "for elemento in lista:\n",
        "    if elemento.lower() != elemento_a_eliminar:\n",
        "        nueva_lista.append(elemento)\n",
        "\n",
        "\n",
        "print(\"Lista sin el elemento:\", nueva_lista)\n"
      ]
    }
  ]
}