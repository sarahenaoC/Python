{
  "nbformat": 4,
  "nbformat_minor": 0,
  "metadata": {
    "colab": {
      "provenance": []
    },
    "kernelspec": {
      "name": "python3",
      "display_name": "Python 3"
    },
    "language_info": {
      "name": "python"
    }
  },
  "cells": [
    {
      "cell_type": "code",
      "execution_count": 4,
      "metadata": {
        "colab": {
          "base_uri": "https://localhost:8080/"
        },
        "id": "m7jZtrMdGSIG",
        "outputId": "30a0b9c0-526c-4013-8a38-25f8d2efcbc6"
      },
      "outputs": [
        {
          "output_type": "stream",
          "name": "stdout",
          "text": [
            "Ingrese una frase: HOLA MUNDO\n",
            "Ingrese un carácter en específico: M\n",
            "Frase sin vocales: HL MND\n"
          ]
        }
      ],
      "source": [
        "\n",
        "frase = input(\"Ingrese una frase: \")\n",
        "\n",
        "\n",
        "caracter = input(\"Ingrese un carácter en específico: \")\n",
        "\n",
        "\n",
        "caracter = caracter.lower()\n",
        "\n",
        "\n",
        "frase_sin_vocales = \"\"\n",
        "\n",
        "\n",
        "vocales = ['a', 'e', 'i', 'o', 'u']\n",
        "\n",
        "\n",
        "for letra in frase:\n",
        "    letra_minuscula = letra.lower()\n",
        "    if letra_minuscula not in vocales:\n",
        "        frase_sin_vocales += letra\n",
        "\n",
        "\n",
        "    if caracter in frase:\n",
        "        break\n",
        "\n",
        "\n",
        "print(\"Frase sin vocales:\", frase_sin_vocales)\n",
        "\n",
        "\n",
        "if caracter in frase:\n",
        "    print(f\"El carácter '{caracter}' está en la frase.\")\n"
      ]
    }
  ]
}