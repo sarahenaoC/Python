{
  "nbformat": 4,
  "nbformat_minor": 0,
  "metadata": {
    "colab": {
      "provenance": []
    },
    "kernelspec": {
      "name": "python3",
      "display_name": "Python 3"
    },
    "language_info": {
      "name": "python"
    }
  },
  "cells": [
    {
      "cell_type": "code",
      "execution_count": 2,
      "metadata": {
        "colab": {
          "base_uri": "https://localhost:8080/"
        },
        "id": "uX-1uahVCuvm",
        "outputId": "a7247389-0e81-4f94-a695-54a98d2fc085"
      },
      "outputs": [
        {
          "output_type": "stream",
          "name": "stdout",
          "text": [
            "0 1 1 2 3 5 8 13 21 34 55 89 144 233 377 610 987 1597 \n"
          ]
        }
      ],
      "source": [
        "a, b = 0, 1\n",
        "\n",
        "while a <= 1597:\n",
        "    print(a, end=\" \")\n",
        "    a, b = b, a + b\n",
        "\n",
        "print()\n"
      ]
    }
  ]
}