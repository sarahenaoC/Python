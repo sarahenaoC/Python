{
  "nbformat": 4,
  "nbformat_minor": 0,
  "metadata": {
    "colab": {
      "provenance": []
    },
    "kernelspec": {
      "name": "python3",
      "display_name": "Python 3"
    },
    "language_info": {
      "name": "python"
    }
  },
  "cells": [
    {
      "cell_type": "code",
      "execution_count": 6,
      "metadata": {
        "colab": {
          "base_uri": "https://localhost:8080/"
        },
        "id": "Ovl73LlpRc4u",
        "outputId": "d02094f8-7a5c-4649-915f-d8ee14919626"
      },
      "outputs": [
        {
          "output_type": "stream",
          "name": "stdout",
          "text": [
            "Accuracy: 0.9883268482490273\n",
            "Recall: 0.976\n",
            "F1-Score: 0.9878542510121457\n",
            "Precision: 1.0\n",
            "Matriz de Confusión:\n",
            "[[132   0]\n",
            " [  3 122]]\n"
          ]
        }
      ],
      "source": [
        "import pandas as pd\n",
        "from sklearn.model_selection import train_test_split\n",
        "from sklearn.ensemble import RandomForestClassifier\n",
        "from sklearn.metrics import accuracy_score, recall_score, f1_score, precision_score, confusion_matrix\n",
        "\n",
        "\n",
        "# Carga los datos de la base de datos\n",
        "df = pd.read_csv(\"heart_disease.csv\")\n",
        "\n",
        "# Selecciona las variables predictoras y la variable objetivo\n",
        "features = df[[\"age\", \"sex\", \"cp\", \"trestbps\", \"chol\", \"fbs\", \"restecg\", \"thalach\", \"exang\", \"oldpeak\",\"slope\",\"ca\",\"thal\"]]\n",
        "target = df[\"target\"]\n",
        "\n",
        "# Divide los datos en conjuntos de entrenamiento y prueba\n",
        "X_train, X_test, y_train, y_test = train_test_split(features, target, test_size=0.25, random_state=42)\n",
        "\n",
        "# Normaliza los datos\n",
        "normalized_features = (features - features.mean()) / features.std()\n",
        "X_train_normalized = (X_train - features.mean()) / features.std()\n",
        "X_test_normalized = (X_test - features.mean()) / features.std()\n",
        "\n",
        "# Crea el modelo de Bosques Aleatorios\n",
        "model = RandomForestClassifier()\n",
        "\n",
        "# Entrena el modelo\n",
        "model.fit(X_train_normalized, y_train)\n",
        "\n",
        "# Realiza la predicción en el conjunto de prueba\n",
        "y_pred = model.predict(X_test_normalized)\n",
        "\n",
        "# Calcula las métricas\n",
        "accuracy = accuracy_score(y_test, y_pred)\n",
        "recall = recall_score(y_test, y_pred, pos_label=1)\n",
        "f1 = f1_score(y_test, y_pred, pos_label=1)\n",
        "precision = precision_score(y_test, y_pred, pos_label=1)\n",
        "confusion = confusion_matrix(y_test, y_pred)\n",
        "\n",
        "# Muestra los resultados\n",
        "print(\"Accuracy:\", accuracy)\n",
        "print(\"Recall:\", recall)\n",
        "print(\"F1-Score:\", f1)\n",
        "print(\"Precision:\", precision)\n",
        "print(\"Matriz de Confusión:\")\n",
        "print(confusion)"
      ]
    }
  ]
}