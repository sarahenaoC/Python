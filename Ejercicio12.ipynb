{
  "nbformat": 4,
  "nbformat_minor": 0,
  "metadata": {
    "colab": {
      "provenance": []
    },
    "kernelspec": {
      "name": "python3",
      "display_name": "Python 3"
    },
    "language_info": {
      "name": "python"
    }
  },
  "cells": [
    {
      "cell_type": "code",
      "execution_count": 1,
      "metadata": {
        "colab": {
          "base_uri": "https://localhost:8080/"
        },
        "id": "KvzAhKHGISDu",
        "outputId": "739eae89-bdb0-42d8-ff7e-5e6a665a5ddd"
      },
      "outputs": [
        {
          "output_type": "stream",
          "name": "stdout",
          "text": [
            "Lista con elementos que no fueron eliminados: [2, 3, 4]\n",
            "Lista con elementos eliminados: [1, 5]\n"
          ]
        }
      ],
      "source": [
        "numeros = [1, 2, 3, 4, 5]\n",
        "\n",
        "if len(numeros) >= 2:\n",
        "    elemento_primero = numeros.pop(0)\n",
        "    elemento_ultimo = numeros.pop()\n",
        "else:\n",
        "    print(\"La lista no tiene suficientes elementos para eliminar el primero y el último.\")\n",
        "\n",
        "\n",
        "print(\"Lista con elementos que no fueron eliminados:\", numeros)\n",
        "print(\"Lista con elementos eliminados:\", [elemento_primero, elemento_ultimo])\n"
      ]
    }
  ]
}