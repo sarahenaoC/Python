{
  "nbformat": 4,
  "nbformat_minor": 0,
  "metadata": {
    "colab": {
      "provenance": []
    },
    "kernelspec": {
      "name": "python3",
      "display_name": "Python 3"
    },
    "language_info": {
      "name": "python"
    }
  },
  "cells": [
    {
      "cell_type": "code",
      "source": [
        "from pickle import STRING\n",
        "print(\"Asignacion Vacaciones \\n\")\n",
        "nombre = len(input(\"¿Cúal es tu nombre?: \" ))\n",
        "antiguedad = int(input(\"¿Cúal es tu angtiguedad en el trabajo?: \" + \"\"))\n",
        "\n",
        "print(\"\\n Claves de departamentos: \\n\")\n",
        "print(\"Digita 1 si eres del departamento de Atencion al cliente\")\n",
        "print(\"Digita 2 si eres del departamento Logıstica\")\n",
        "print(\"Digita 3 si eres del departamento Gerencia\\n\")\n",
        "\n",
        "opcion = int(input(\"¿cual es tu clave de departamento?:\"))\n",
        "\n",
        "if opcion == 1:\n",
        "    print(\"\\n Tu departamento es de Atencion al cliente: \\n\")\n",
        "\n",
        "\n",
        "\n",
        "    if  antiguedad == 1:\n",
        "        print(\"Tienes 6 diás de vacaciones\")\n",
        "    elif  antiguedad >= 2 and antiguedad <= 6:\n",
        "        print(\"Tienes 14 diás de vacaciones\")\n",
        "    elif antiguedad >= 7:\n",
        "        print(\"Tienes 20 diás de vacaciones\")\n",
        "    else:\n",
        "        print(\"No tienes vaciones\")\n",
        "\n",
        "elif opcion == 2:\n",
        "    print(\"\\n Tu departamento es de Logıstica: \\n\")\n",
        "\n",
        "\n",
        "\n",
        "    if  antiguedad == 1:\n",
        "        print(\"Tienes 7 diás de vacaciones\")\n",
        "    elif  antiguedad >= 2 and antiguedad <= 6:\n",
        "        print(\"Tienes 15 diás de vacaciones\")\n",
        "    elif antiguedad >= 7:\n",
        "        print(\"Tienes 22 diás de vacaciones\")\n",
        "    else:\n",
        "        print(\"No tienes vaciones\")\n",
        "\n",
        "elif opcion == 3:\n",
        "    print(\"\\n Tu departamento es de Gerencia: \\n\")\n",
        "\n",
        "\n",
        "    if  antiguedad == 1:\n",
        "        print(\"Tienes 10 diás de vacaciones\")\n",
        "    elif  antiguedad >= 2 and antiguedad <= 6:\n",
        "        print(\"Tienes 20 diás de vacaciones\")\n",
        "    elif antiguedad >= 7:\n",
        "        print(\"Tienes 30 diás de vacaciones\")\n",
        "    else:\n",
        "        print(\"No tienes vaciones\")\n",
        "\n",
        "else:\n",
        "        print(\"No existe\")\n",
        "\n",
        "print(\"Fin.\")"
      ],
      "metadata": {
        "colab": {
          "base_uri": "https://localhost:8080/"
        },
        "id": "JbEsNupRND_r",
        "outputId": "2f1e9871-6cce-401a-d10c-695412904357"
      },
      "execution_count": 27,
      "outputs": [
        {
          "output_type": "stream",
          "name": "stdout",
          "text": [
            "Asignacion Vacaciones \n",
            "\n",
            "¿Cúal es tu nombre?: sara\n",
            "¿Cúal es tu angtiguedad en el trabajo?: 1\n",
            "\n",
            " Claves de departamentos: \n",
            "\n",
            "Digita 1 si eres del departamento de Atencion al cliente\n",
            "Digita 2 si eres del departamento Logıstica\n",
            "Digita 3 si eres del departamento Gerencia\n",
            "\n",
            "¿cual es tu clave de departamento?:1\n",
            "\n",
            " Tu departamento es de Atencion al cliente: \n",
            "\n",
            "Tienes 6 diás de vacaciones\n",
            "Fin.\n"
          ]
        }
      ]
    },
    {
      "cell_type": "code",
      "source": [],
      "metadata": {
        "id": "_fhL-xM7XsRU"
      },
      "execution_count": null,
      "outputs": []
    }
  ]
}