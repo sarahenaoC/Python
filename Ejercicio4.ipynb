{
  "nbformat": 4,
  "nbformat_minor": 0,
  "metadata": {
    "colab": {
      "provenance": []
    },
    "kernelspec": {
      "name": "python3",
      "display_name": "Python 3"
    },
    "language_info": {
      "name": "python"
    }
  },
  "cells": [
    {
      "cell_type": "code",
      "execution_count": null,
      "metadata": {
        "id": "sy2NPfvFrdhZ"
      },
      "outputs": [],
      "source": [
        "print(\"Calculadora básica\")\n",
        "print(\"1. Suma\")\n",
        "print(\"2. Resta\")\n",
        "print(\"3. Multiplicación\")\n",
        "print(\"4. División\")\n",
        "print(\"5. División entera\")\n",
        "print(\"6. Exponente\")\n",
        "print(\"7. Módulo o Resto\")\n",
        "\n",
        "opcion = int(input(\"Seleccione una opción: \"))\n",
        "\n",
        "if opcion >= 1 and opcion <= 7:\n",
        "    primer_numero = float(input(\"Ingrese el primer número: \"))\n",
        "    segundo_numero = float(input(\"Ingrese el segundo número: \"))\n",
        "\n",
        "    if opcion == 1:\n",
        "        numero = primer_numero + segundo_numero\n",
        "    elif opcion == 2:\n",
        "        numero = primer_numero - segundo_numero\n",
        "    elif opcion == 3:\n",
        "        numero = primer_numero * segundo_numero\n",
        "    elif opcion == 4:\n",
        "        numero = primer_numero / segundo_numero\n",
        "    elif opcion == 5:\n",
        "        numero = primer_numero // segundo_numero\n",
        "    elif opcion == 6:\n",
        "        numero = primer_numero ** segundo_numero\n",
        "    elif opcion == 7:\n",
        "        numero = primer_numero % segundo_numero\n",
        "\n",
        "    print(f\"Resultado: {numero}\")\n",
        "else:\n",
        "    print(\"Opción inválida\")"
      ]
    }
  ]
}