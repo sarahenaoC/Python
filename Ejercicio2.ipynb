{
  "nbformat": 4,
  "nbformat_minor": 0,
  "metadata": {
    "colab": {
      "provenance": []
    },
    "kernelspec": {
      "name": "python3",
      "display_name": "Python 3"
    },
    "language_info": {
      "name": "python"
    }
  },
  "cells": [
    {
      "cell_type": "code",
      "execution_count": 15,
      "metadata": {
        "colab": {
          "base_uri": "https://localhost:8080/"
        },
        "id": "qk1rynPIX8hf",
        "outputId": "d06e425b-f9a7-4ca7-930f-7c15dbb126d9"
      },
      "outputs": [
        {
          "output_type": "stream",
          "name": "stdout",
          "text": [
            "Ingrese un número entero: -7\n",
            "El número -7 es impar\n"
          ]
        }
      ],
      "source": [
        "numero = int(input(\"Ingrese un número entero: \"))\n",
        "if numero % 2 == 0:\n",
        "  mensaje = f\"El número {numero} es par\"\n",
        "else:\n",
        "    mensaje = f\"El número {numero} es impar\"\n",
        "print(mensaje)"
      ]
    }
  ]
}