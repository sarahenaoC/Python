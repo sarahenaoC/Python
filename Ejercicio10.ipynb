{
  "nbformat": 4,
  "nbformat_minor": 0,
  "metadata": {
    "colab": {
      "provenance": []
    },
    "kernelspec": {
      "name": "python3",
      "display_name": "Python 3"
    },
    "language_info": {
      "name": "python"
    }
  },
  "cells": [
    {
      "cell_type": "code",
      "execution_count": null,
      "metadata": {
        "id": "0rJadBB7Hcqs"
      },
      "outputs": [],
      "source": [
        "\n",
        "longitud = int(input(\"Ingrese la longitud de la lista: \"))\n",
        "\n",
        "\n",
        "lista_enteros = []\n",
        "\n",
        "\n",
        "for i in range(longitud):\n",
        "    elemento = int(input(f\"Ingrese el elemento {i+1}: \"))\n",
        "    lista_enteros.append(elemento)\n",
        "\n",
        "\n",
        "suma_elementos = sum(lista_enteros)\n",
        "\n",
        "\n",
        "print(\"Lista de elementos:\", lista_enteros)\n",
        "print(\"Suma de los elementos:\", suma_elementos)\n"
      ]
    }
  ]
}