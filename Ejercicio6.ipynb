{
  "nbformat": 4,
  "nbformat_minor": 0,
  "metadata": {
    "colab": {
      "provenance": []
    },
    "kernelspec": {
      "name": "python3",
      "display_name": "Python 3"
    },
    "language_info": {
      "name": "python"
    }
  },
  "cells": [
    {
      "cell_type": "code",
      "execution_count": null,
      "metadata": {
        "id": "wEKVbcA9DkxM"
      },
      "outputs": [],
      "source": [
        "\n",
        "cadena = input(\"Ingrese una oración: \")\n",
        "\n",
        "palabra_a_eliminar = input(\"Ingrese la palabra que desea eliminar: \")\n",
        "\n",
        "cadena_modificada = cadena.replace(palabra_a_eliminar, '')\n",
        "\n",
        "print(\"Oración modificada:\", cadena_modificada)\n"
      ]
    }
  ]
}